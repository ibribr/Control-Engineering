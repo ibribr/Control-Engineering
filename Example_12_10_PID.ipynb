{
  "nbformat": 4,
  "nbformat_minor": 0,
  "metadata": {
    "colab": {
      "provenance": [],
      "authorship_tag": "ABX9TyONXcTrfw914XhT+x/1/36j",
      "include_colab_link": true
    },
    "kernelspec": {
      "name": "python3",
      "display_name": "Python 3"
    },
    "language_info": {
      "name": "python"
    }
  },
  "cells": [
    {
      "cell_type": "markdown",
      "metadata": {
        "id": "view-in-github",
        "colab_type": "text"
      },
      "source": [
        "<a href=\"https://colab.research.google.com/github/ibribr/Control-Engineering/blob/main/Example_12_10_PID.ipynb\" target=\"_parent\"><img src=\"https://colab.research.google.com/assets/colab-badge.svg\" alt=\"Open In Colab\"/></a>"
      ]
    },
    {
      "cell_type": "code",
      "source": [
        "!pip install control"
      ],
      "metadata": {
        "id": "93MXn7xH4axf",
        "colab": {
          "base_uri": "https://localhost:8080/"
        },
        "outputId": "38c591f3-44ab-4c99-87cd-7cfabc9542f4"
      },
      "execution_count": null,
      "outputs": [
        {
          "output_type": "stream",
          "name": "stdout",
          "text": [
            "Collecting control\n",
            "  Downloading control-0.10.0-py3-none-any.whl (513 kB)\n",
            "\u001b[2K     \u001b[90m━━━━━━━━━━━━━━━━━━━━━━━━━━━━━━━━━━━━━━━━\u001b[0m \u001b[32m513.9/513.9 kB\u001b[0m \u001b[31m3.7 MB/s\u001b[0m eta \u001b[36m0:00:00\u001b[0m\n",
            "\u001b[?25hRequirement already satisfied: numpy>=1.23 in /usr/local/lib/python3.10/dist-packages (from control) (1.25.2)\n",
            "Requirement already satisfied: scipy>=1.8 in /usr/local/lib/python3.10/dist-packages (from control) (1.11.4)\n",
            "Requirement already satisfied: matplotlib>=3.6 in /usr/local/lib/python3.10/dist-packages (from control) (3.7.1)\n",
            "Requirement already satisfied: contourpy>=1.0.1 in /usr/local/lib/python3.10/dist-packages (from matplotlib>=3.6->control) (1.2.1)\n",
            "Requirement already satisfied: cycler>=0.10 in /usr/local/lib/python3.10/dist-packages (from matplotlib>=3.6->control) (0.12.1)\n",
            "Requirement already satisfied: fonttools>=4.22.0 in /usr/local/lib/python3.10/dist-packages (from matplotlib>=3.6->control) (4.51.0)\n",
            "Requirement already satisfied: kiwisolver>=1.0.1 in /usr/local/lib/python3.10/dist-packages (from matplotlib>=3.6->control) (1.4.5)\n",
            "Requirement already satisfied: packaging>=20.0 in /usr/local/lib/python3.10/dist-packages (from matplotlib>=3.6->control) (24.0)\n",
            "Requirement already satisfied: pillow>=6.2.0 in /usr/local/lib/python3.10/dist-packages (from matplotlib>=3.6->control) (9.4.0)\n",
            "Requirement already satisfied: pyparsing>=2.3.1 in /usr/local/lib/python3.10/dist-packages (from matplotlib>=3.6->control) (3.1.2)\n",
            "Requirement already satisfied: python-dateutil>=2.7 in /usr/local/lib/python3.10/dist-packages (from matplotlib>=3.6->control) (2.8.2)\n",
            "Requirement already satisfied: six>=1.5 in /usr/local/lib/python3.10/dist-packages (from python-dateutil>=2.7->matplotlib>=3.6->control) (1.16.0)\n",
            "Installing collected packages: control\n",
            "Successfully installed control-0.10.0\n"
          ]
        }
      ]
    },
    {
      "cell_type": "code",
      "source": [
        "from control import tf, tf2ss, forced_response, pzmap, tfdata, feedback, ss\n",
        "from scipy import signal\n",
        "import numpy as np\n",
        "import matplotlib.pyplot as plt"
      ],
      "metadata": {
        "id": "8GlpVkcgxNLv"
      },
      "execution_count": null,
      "outputs": []
    },
    {
      "cell_type": "code",
      "source": [
        "# Define your plant in phase variable form:\n",
        "A = np.array([[0, 1],[-3, -5]])\n",
        "B = np.array([[0],[1]])\n",
        "C = np.array([1, 0])\n",
        "D = np.array([0])\n",
        "\n",
        "sys = ss(A,B,C,D)\n",
        "print(sys)\n",
        "print(tf(sys))"
      ],
      "metadata": {
        "id": "fvc_lgROJHJw",
        "outputId": "beec4aee-2bcd-4dc5-d4ed-09a7b151135c",
        "colab": {
          "base_uri": "https://localhost:8080/"
        }
      },
      "execution_count": null,
      "outputs": [
        {
          "output_type": "stream",
          "name": "stdout",
          "text": [
            "<StateSpace>: sys[0]\n",
            "Inputs (1): ['u[0]']\n",
            "Outputs (1): ['y[0]']\n",
            "States (2): ['x[0]', 'x[1]']\n",
            "\n",
            "A = [[ 0.  1.]\n",
            "     [-3. -5.]]\n",
            "\n",
            "B = [[0.]\n",
            "     [1.]]\n",
            "\n",
            "C = [[1. 0.]]\n",
            "\n",
            "D = [[0.]]\n",
            "\n",
            "<TransferFunction>: sys[1]\n",
            "Inputs (1): ['u[0]']\n",
            "Outputs (1): ['y[0]']\n",
            "\n",
            "\n",
            "      1\n",
            "-------------\n",
            "s^2 + 5 s + 3\n",
            "\n"
          ]
        }
      ]
    },
    {
      "cell_type": "code",
      "source": [
        "# PI controller parameters to get 10% overshot and Ts = 1 sec\n",
        "kp = 203.8\n",
        "ki = 916\n",
        "kd = 23\n",
        "\n",
        "x = np.array([[0],[0]])#np.zeros((A.shape[0], 1))\n",
        "u = 0\n",
        "r = 1\n",
        "\n",
        "# simulate\n",
        "t0 = 0\n",
        "t1 = 2           # remeber that Ts is 1 sec\n",
        "dt = 0.001\n",
        "nt = int( t1 / dt ) + 1 # Number of points of sim time\n",
        "t = np.linspace(t0, t1, nt)\n",
        "er_sum = 0\n",
        "last_y = 0\n",
        "last_e = 0\n",
        "\n",
        "print(t.shape[0])\n",
        "rplt = np.zeros(t.shape[0])\n",
        "yplt = np.zeros(t.shape[0])\n",
        "\n",
        "for i in range(t.shape[0]):\n",
        "  # model\n",
        "  xdot = A @ x + B * u        #state equation\n",
        "  x = x + xdot * dt\n",
        "  y = C @ x + D * u             # output equation\n",
        "\n",
        "  e = r - y                    # I-PD controller\n",
        "  er_sum = er_sum + e * dt\n",
        "  #u = ki * er_sum - kp * y - kd * (y - last_y)/dt\n",
        "  #last_y = y\n",
        "\n",
        "  # Standard PID controller\n",
        "  u = kp * e + ki * er_sum + kd * (e - last_e)/dt\n",
        "  last_e = e\n",
        "\n",
        "\n",
        "  yplt[i] = y\n",
        "  rplt[i] = r\n",
        "\n",
        "# plot results\n",
        "plt.figure(figsize=(8, 4))\n",
        "plt.plot(t, yplt, 'green')\n",
        "plt.plot(t, rplt, 'blue')\n",
        "plt.ylim(0, 1.5)\n",
        "plt.grid()\n",
        "plt.legend(['y','r'])\n",
        "plt.show()"
      ],
      "metadata": {
        "colab": {
          "base_uri": "https://localhost:8080/",
          "height": 440
        },
        "id": "gte7MmIXKHCM",
        "outputId": "3d100fb1-a2af-483e-fc6c-350bd6eb9efe"
      },
      "execution_count": null,
      "outputs": [
        {
          "output_type": "stream",
          "name": "stdout",
          "text": [
            "2001\n"
          ]
        },
        {
          "output_type": "stream",
          "name": "stderr",
          "text": [
            "<ipython-input-13-7a73daa4e113>:40: DeprecationWarning: Conversion of an array with ndim > 0 to a scalar is deprecated, and will error in future. Ensure you extract a single element from your array before performing this operation. (Deprecated NumPy 1.25.)\n",
            "  yplt[i] = y\n"
          ]
        },
        {
          "output_type": "display_data",
          "data": {
            "text/plain": [
              "<Figure size 800x400 with 1 Axes>"
            ],
            "image/png": "[encoded data removed]"
          },
          "metadata": {}
        }
      ]
    },
    {
      "cell_type": "code",
      "source": [
        "# plot roots (eigenvalues) of the system matrix of controlled system and observer\n",
        "sys_eigenvalues, _ = np.linalg.eig(A-np.outer(B, K))\n",
        "\n",
        "print(\"Eigenvalues (Roots) of A:\", sys_eigenvalues)\n",
        "\n",
        "obs_eigenvalues, _ = np.linalg.eig(A-np.outer(L, C))\n",
        "\n",
        "print(\"Eigenvalues (Roots) of A:\", obs_eigenvalues)\n",
        "\n",
        "plt.figure(figsize=(10, 6))\n",
        "# Plot the real part vs. the imaginary part of the eigenvalues\n",
        "plt.plot(sys_eigenvalues.real, sys_eigenvalues.imag, 'ro')  # 'ro' plots red dots\n",
        "plt.plot(obs_eigenvalues.real, obs_eigenvalues.imag, 'go')  # 'ro' plots red dots\n",
        "\n",
        "# Add grid, labels, and make sure the aspect ratio is equal\n",
        "plt.grid(True)\n",
        "plt.xlabel('Real Part')\n",
        "plt.ylabel('Imaginary Part')\n",
        "plt.title('Eigenvalues in the Complex Plane')\n",
        "plt.axhline(0, color='black',linewidth=0.5)\n",
        "plt.axvline(0, color='black',linewidth=0.5)\n",
        "plt.gca().set_aspect('equal', adjustable='box')\n",
        "plt.legend(['sys','obs'])\n",
        "\n",
        "# Show the plot\n",
        "plt.show()\n"
      ],
      "metadata": {
        "colab": {
          "base_uri": "https://localhost:8080/",
          "height": 599
        },
        "id": "SGPdLr8RiU1-",
        "outputId": "7b297117-f6b2-4c59-de36-fa0e88f0db88"
      },
      "execution_count": null,
      "outputs": [
        {
          "output_type": "stream",
          "name": "stdout",
          "text": [
            "Eigenvalues (Roots) of A: [-1.15+1.57082781j -1.15-1.57082781j]\n",
            "Eigenvalues (Roots) of A: [-11.515+15.70206276j -11.515-15.70206276j]\n"
          ]
        },
        {
          "output_type": "display_data",
          "data": {
            "text/plain": [
              "<Figure size 1000x600 with 1 Axes>"
            ],
            "image/png": "[encoded data removed]"
          },
          "metadata": {}
        }
      ]
    }
  ]
}