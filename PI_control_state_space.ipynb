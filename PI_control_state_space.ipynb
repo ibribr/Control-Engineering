{
  "nbformat": 4,
  "nbformat_minor": 0,
  "metadata": {
    "colab": {
      "provenance": [],
      "authorship_tag": "ABX9TyNXNKwdgjuNyqxFqto6Jy1d",
      "include_colab_link": true
    },
    "kernelspec": {
      "name": "python3",
      "display_name": "Python 3"
    },
    "language_info": {
      "name": "python"
    }
  },
  "cells": [
    {
      "cell_type": "markdown",
      "metadata": {
        "id": "view-in-github",
        "colab_type": "text"
      },
      "source": [
        "<a href=\"https://colab.research.google.com/github/ibribr/Control-Engineering/blob/main/PI_control_state_space.ipynb\" target=\"_parent\"><img src=\"https://colab.research.google.com/assets/colab-badge.svg\" alt=\"Open In Colab\"/></a>"
      ]
    },
    {
      "cell_type": "code",
      "source": [
        "import numpy as np\n",
        "import matplotlib.pyplot as plt"
      ],
      "metadata": {
        "id": "lpjleLlWMElq"
      },
      "execution_count": 4,
      "outputs": []
    },
    {
      "cell_type": "code",
      "execution_count": 6,
      "metadata": {
        "colab": {
          "base_uri": "https://localhost:8080/"
        },
        "id": "EBDKnTlJLS_5",
        "outputId": "094e24dc-89f1-4540-8278-6a87bc249cf7"
      },
      "outputs": [
        {
          "output_type": "stream",
          "name": "stdout",
          "text": [
            "[[-4, -1], [4, 0]]\n"
          ]
        }
      ],
      "source": [
        "# plot time response of a system in state space representation\n",
        "# state space model\n",
        "# xdot= A * x + B * u\n",
        "# y   = C * x + D * u\n",
        "\n",
        "A = [[-4, -1],\n",
        "     [ 4,  0]]\n",
        "\n",
        "B = [[2],\n",
        "     [0]]\n",
        "C = [[1.5, 0.625]]\n",
        "D = [[0]]"
      ]
    },
    {
      "cell_type": "code",
      "source": [
        "dt = 0.001 # simulation step size\n",
        "t = np.arange(0,15,dt)\n",
        "x = [[0],\n",
        "     [0]]\n",
        "r = 1                  # reference iput\n",
        "kp = 0.3\n",
        "ki = 0.002\n",
        "u = 0.0\n",
        "#print(x.reshape(-1,1))\n",
        "print(t.shape[0])\n",
        "rplot = np.zeros(t.shape[0])\n",
        "yplot = np.zeros(t.shape[0])\n",
        "sum_e = 0\n",
        "\n",
        "for i in range(t.shape[0]):\n",
        "  if i >= 5000:\n",
        "    r = 2\n",
        "  if i >= 10000:\n",
        "    r = 0.5\n",
        "  #print(i)\n",
        "  xdot=np.dot(A, x)+np.dot(B,u)\n",
        "  #print(xdot)\n",
        "  #print(xdot.shape)\n",
        "  x = x + xdot*dt\n",
        "  y = np.dot(C,x)+np.dot(D,u)\n",
        "  e = r - y\n",
        "  u = kp * e + ki * sum_e\n",
        "  sum_e = sum_e + e\n",
        "  yplot[i] = y\n",
        "  rplot[i] = r\n",
        "\n",
        "plt.plot(t,rplot)\n",
        "plt.plot(t,yplot)\n",
        "plt.grid()\n",
        "plt.legend(['Ref','Output'])\n",
        "plt.show()\n",
        "\n"
      ],
      "metadata": {
        "colab": {
          "base_uri": "https://localhost:8080/",
          "height": 448
        },
        "id": "hw_NLyrmQRxD",
        "outputId": "20e5485c-81d3-44db-f3be-3f76cc1edd7b"
      },
      "execution_count": 103,
      "outputs": [
        {
          "output_type": "stream",
          "name": "stdout",
          "text": [
            "15000\n"
          ]
        },
        {
          "output_type": "display_data",
          "data": {
            "text/plain": [
              "<Figure size 640x480 with 1 Axes>"
            ],
            "image/png": "[encoded data removed]"
          },
          "metadata": {}
        }
      ]
    }
  ]
}