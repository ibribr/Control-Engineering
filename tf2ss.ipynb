{
  "nbformat": 4,
  "nbformat_minor": 0,
  "metadata": {
    "colab": {
      "provenance": [],
      "authorship_tag": "ABX9TyOGiFgoqAd5hqarkkP3s7SC",
      "include_colab_link": true
    },
    "kernelspec": {
      "name": "python3",
      "display_name": "Python 3"
    },
    "language_info": {
      "name": "python"
    }
  },
  "cells": [
    {
      "cell_type": "markdown",
      "metadata": {
        "id": "view-in-github",
        "colab_type": "text"
      },
      "source": [
        "<a href=\"https://colab.research.google.com/github/ibribr/Control-Engineering/blob/main/tf2ss.ipynb\" target=\"_parent\"><img src=\"https://colab.research.google.com/assets/colab-badge.svg\" alt=\"Open In Colab\"/></a>"
      ]
    },
    {
      "cell_type": "code",
      "source": [
        "!pip install control"
      ],
      "metadata": {
        "id": "93MXn7xH4axf"
      },
      "execution_count": null,
      "outputs": []
    },
    {
      "cell_type": "code",
      "source": [
        "import control\n",
        "import numpy as np\n",
        "import matplotlib.pyplot as plt"
      ],
      "metadata": {
        "id": "8GlpVkcgxNLv"
      },
      "execution_count": null,
      "outputs": []
    },
    {
      "cell_type": "code",
      "source": [
        "# Define your transfer function here\n",
        "# Example: Transfer function G(s) = (s + 2) / (s^2 + 3s + 2)\n",
        "numerator = [1, 2]  # Coefficients of the numerator (s + 2)\n",
        "denominator = [1, 3, 2]  # Coefficients of the denominator (s^2 + 3s + 2)\n",
        "\n",
        "# Create the transfer function\n",
        "TF = control.TransferFunction(numerator, denominator)\n",
        "\n",
        "# Convert to State Space\n",
        "SS = control.tf2ss(TF)\n",
        "A = SS.A\n",
        "B = SS.B\n",
        "C = SS.C\n",
        "D = SS.D\n",
        "\n",
        "print(\"State Space Representation:\")\n",
        "print(\"A matrix: \\n\", A)\n",
        "print(\"B matrix: \\n\", B)\n",
        "print(\"C matrix: \\n\", C)\n",
        "print(\"D matrix: \\n\", D)"
      ],
      "metadata": {
        "colab": {
          "base_uri": "https://localhost:8080/"
        },
        "id": "bRGatdzAyKuK",
        "outputId": "e44d4c0d-19a2-4c3d-bba8-9825464a2a26"
      },
      "execution_count": 32,
      "outputs": [
        {
          "output_type": "stream",
          "name": "stdout",
          "text": [
            "State Space Representation:\n",
            "A matrix: \n",
            " [[-3. -2.]\n",
            " [ 1.  0.]]\n",
            "B matrix: \n",
            " [[1.]\n",
            " [0.]]\n",
            "C matrix: \n",
            " [[1. 2.]]\n",
            "D matrix: \n",
            " [[0.]]\n"
          ]
        }
      ]
    },
    {
      "cell_type": "code",
      "source": [
        "dt = 0.001 # simulation step size\n",
        "t = np.arange(0,30,dt)\n",
        "x = np.zeros([A.shape[0],1])\n",
        "\n",
        "r = 1                  # reference input\n",
        "kp = 0.01\n",
        "ki = 0.002\n",
        "u = 0.0\n",
        "\n",
        "rplot = np.zeros(t.shape[0])\n",
        "yplot = np.zeros(t.shape[0])\n",
        "sum_e = 0\n",
        "\n",
        "for i in range(t.shape[0]):\n",
        "\n",
        "  if i >= 15000:\n",
        "    r = 2\n",
        "\n",
        "  # state space model\n",
        "  xdot=np.dot(A, x)+np.dot(B,u)\n",
        "  x = x + xdot*dt\n",
        "  y = np.dot(C,x)+np.dot(D,u)\n",
        "\n",
        "  # controller\n",
        "  e = r - y\n",
        "  u = kp * e + ki * sum_e\n",
        "  sum_e = sum_e + e\n",
        "\n",
        "  yplot[i] = y\n",
        "  rplot[i] = r\n",
        "\n",
        "plt.plot(t,rplot)\n",
        "plt.plot(t,yplot)\n",
        "plt.grid()\n",
        "plt.legend(['Ref','Output'])\n",
        "plt.show()"
      ],
      "metadata": {
        "colab": {
          "base_uri": "https://localhost:8080/",
          "height": 486
        },
        "id": "vedAZX9n33QH",
        "outputId": "9aaeaf3b-251c-4828-ec22-86f1b077572a"
      },
      "execution_count": 29,
      "outputs": [
        {
          "output_type": "stream",
          "name": "stderr",
          "text": [
            "<ipython-input-29-e243c7307d03>:29: DeprecationWarning: Conversion of an array with ndim > 0 to a scalar is deprecated, and will error in future. Ensure you extract a single element from your array before performing this operation. (Deprecated NumPy 1.25.)\n",
            "  yplot[i] = y\n"
          ]
        },
        {
          "output_type": "display_data",
          "data": {
            "text/plain": [
              "<Figure size 640x480 with 1 Axes>"
            ],
            "image/png": "[encoded data removed]"
          },
          "metadata": {}
        }
      ]
    }
  ]
}