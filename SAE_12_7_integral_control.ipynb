{
  "nbformat": 4,
  "nbformat_minor": 0,
  "metadata": {
    "colab": {
      "provenance": [],
      "authorship_tag": "ABX9TyOowo6J1kT2LZl6oQjNfrcQ",
      "include_colab_link": true
    },
    "kernelspec": {
      "name": "python3",
      "display_name": "Python 3"
    },
    "language_info": {
      "name": "python"
    }
  },
  "cells": [
    {
      "cell_type": "markdown",
      "metadata": {
        "id": "view-in-github",
        "colab_type": "text"
      },
      "source": [
        "<a href=\"https://colab.research.google.com/github/ibribr/Control-Engineering/blob/main/SAE_12_7_integral_control.ipynb\" target=\"_parent\"><img src=\"https://colab.research.google.com/assets/colab-badge.svg\" alt=\"Open In Colab\"/></a>"
      ]
    },
    {
      "cell_type": "code",
      "source": [
        "!pip install control"
      ],
      "metadata": {
        "id": "93MXn7xH4axf",
        "colab": {
          "base_uri": "https://localhost:8080/"
        },
        "outputId": "f27ac8ba-d456-4a8a-f329-ce7fd2ad43c4"
      },
      "execution_count": 1,
      "outputs": [
        {
          "output_type": "stream",
          "name": "stdout",
          "text": [
            "Collecting control\n",
            "  Downloading control-0.10.0-py3-none-any.whl (513 kB)\n",
            "\u001b[2K     \u001b[90m━━━━━━━━━━━━━━━━━━━━━━━━━━━━━━━━━━━━━━━━\u001b[0m \u001b[32m513.9/513.9 kB\u001b[0m \u001b[31m5.6 MB/s\u001b[0m eta \u001b[36m0:00:00\u001b[0m\n",
            "\u001b[?25hRequirement already satisfied: numpy>=1.23 in /usr/local/lib/python3.10/dist-packages (from control) (1.25.2)\n",
            "Requirement already satisfied: scipy>=1.8 in /usr/local/lib/python3.10/dist-packages (from control) (1.11.4)\n",
            "Requirement already satisfied: matplotlib>=3.6 in /usr/local/lib/python3.10/dist-packages (from control) (3.7.1)\n",
            "Requirement already satisfied: contourpy>=1.0.1 in /usr/local/lib/python3.10/dist-packages (from matplotlib>=3.6->control) (1.2.1)\n",
            "Requirement already satisfied: cycler>=0.10 in /usr/local/lib/python3.10/dist-packages (from matplotlib>=3.6->control) (0.12.1)\n",
            "Requirement already satisfied: fonttools>=4.22.0 in /usr/local/lib/python3.10/dist-packages (from matplotlib>=3.6->control) (4.50.0)\n",
            "Requirement already satisfied: kiwisolver>=1.0.1 in /usr/local/lib/python3.10/dist-packages (from matplotlib>=3.6->control) (1.4.5)\n",
            "Requirement already satisfied: packaging>=20.0 in /usr/local/lib/python3.10/dist-packages (from matplotlib>=3.6->control) (24.0)\n",
            "Requirement already satisfied: pillow>=6.2.0 in /usr/local/lib/python3.10/dist-packages (from matplotlib>=3.6->control) (9.4.0)\n",
            "Requirement already satisfied: pyparsing>=2.3.1 in /usr/local/lib/python3.10/dist-packages (from matplotlib>=3.6->control) (3.1.2)\n",
            "Requirement already satisfied: python-dateutil>=2.7 in /usr/local/lib/python3.10/dist-packages (from matplotlib>=3.6->control) (2.8.2)\n",
            "Requirement already satisfied: six>=1.5 in /usr/local/lib/python3.10/dist-packages (from python-dateutil>=2.7->matplotlib>=3.6->control) (1.16.0)\n",
            "Installing collected packages: control\n",
            "Successfully installed control-0.10.0\n"
          ]
        }
      ]
    },
    {
      "cell_type": "code",
      "source": [
        "from control import tf, tf2ss, forced_response, pzmap, tfdata, feedback, ss\n",
        "from scipy import signal\n",
        "import numpy as np\n",
        "import matplotlib.pyplot as plt"
      ],
      "metadata": {
        "id": "8GlpVkcgxNLv"
      },
      "execution_count": 2,
      "outputs": []
    },
    {
      "cell_type": "code",
      "source": [
        "# Define your plant in phase variable form:\n",
        "A = np.array([[0, 1],[-7, -9]])\n",
        "B = np.array([[0],[1]])\n",
        "C = np.array([4, 1])\n",
        "D = np.array([0])\n",
        "K = np.array([2.21, -2.7])\n",
        "ke = 3.79\n",
        "\n",
        "\n",
        "x = np.array([[0],[0]])#np.zeros((A.shape[0], 1))\n",
        "u = 0\n",
        "r = 1\n",
        "xN = 0\n",
        "\n",
        "# simulate\n",
        "t0 = 0\n",
        "t1 = 5           # remeber that Ts is 1 sec\n",
        "dt = 0.001\n",
        "nt = int( t1 / dt ) + 1 # Number of points of sim time\n",
        "t = np.linspace(t0, t1, nt)\n",
        "\n",
        "\n",
        "#print(x.reshape(-1,1))\n",
        "print(t.shape[0])\n",
        "rplt = np.zeros(t.shape[0])\n",
        "yplt = np.zeros(t.shape[0])\n",
        "rplt = np.zeros(t.shape[0])\n",
        "yplt = np.zeros(t.shape[0])\n",
        "yesplt = np.zeros(t.shape[0])\n",
        "explt = np.zeros((A.shape[0], t.shape[0]))\n",
        "print(explt.shape)\n",
        "\n",
        "for i in range(t.shape[0]):\n",
        "  # model\n",
        "  xdot = np.dot(A, x) + B * u        #state equation\n",
        "  x = x + xdot * dt\n",
        "  y = np.dot(C,x)+ D * u             # output equation\n",
        "\n",
        "  #u = r - np.dot(K,x)             # state feedback\n",
        "  #u = r - y                       # controller using output feedback\n",
        "  xNdot = r - y                    # integral coontrol\n",
        "  xN = xN + xNdot * dt\n",
        "  u = r - np.dot(K,x) + ke * xN\n",
        "\n",
        "  yplt[i] = y\n",
        "  rplt[i] = r\n",
        "\n",
        "# plot results\n",
        "plt.figure(figsize=(8, 4))\n",
        "plt.plot(t, yplt, 'green')\n",
        "plt.plot(t, rplt, 'blue')\n",
        "#plt.ylim(0, 0.002)\n",
        "plt.grid()\n",
        "plt.legend(['y','yes'])\n",
        "plt.show()"
      ],
      "metadata": {
        "colab": {
          "base_uri": "https://localhost:8080/",
          "height": 459
        },
        "id": "gte7MmIXKHCM",
        "outputId": "fa8deafb-f05f-463b-fd26-960f7c7d4e23"
      },
      "execution_count": 4,
      "outputs": [
        {
          "output_type": "stream",
          "name": "stdout",
          "text": [
            "5001\n",
            "(2, 5001)\n"
          ]
        },
        {
          "output_type": "stream",
          "name": "stderr",
          "text": [
            "<ipython-input-4-20d24cf85f12>:45: DeprecationWarning: Conversion of an array with ndim > 0 to a scalar is deprecated, and will error in future. Ensure you extract a single element from your array before performing this operation. (Deprecated NumPy 1.25.)\n",
            "  yplt[i] = y\n"
          ]
        },
        {
          "output_type": "display_data",
          "data": {
            "text/plain": [
              "<Figure size 800x400 with 1 Axes>"
            ],
            "image/png": "[encoded data removed]"
          },
          "metadata": {}
        }
      ]
    },
    {
      "cell_type": "code",
      "source": [
        "# plot roots (eigenvalues) of the system matrix of controlled system and observer\n",
        "print(np.outer(B, ke))\n",
        "print(A-np.outer(B, K))\n",
        "print(-C)\n",
        "print(np.zeros(1))\n",
        "\n",
        "print([A-np.outer(B, K), np.outer(B, ke)])\n",
        "\n",
        "sys_matrix = np.concatenate((A-np.outer(B, K), np.outer(B, ke)), axis=0)\n",
        "print(sys_matrix)\n",
        "#sys_matrix = np.concatenate([[A-np.outer(B, K), np.outer(B, ke)],[-C, [0]]])\n",
        "\n",
        "\n",
        "\n",
        "sys_eigenvalues, _ = np.linalg.eig(A)\n",
        "\n",
        "print(\"Eigenvalues (Roots) of A:\", sys_eigenvalues)\n",
        "\n",
        "cont_sys_eigenvalues, _ = np.linalg.eig(sys_matrix)\n",
        "\n",
        "print(\"Eigenvalues (Roots) of A:\", cont_sys_eigenvalues)\n",
        "\n",
        "plt.figure(figsize=(10, 6))\n",
        "# Plot the real part vs. the imaginary part of the eigenvalues\n",
        "plt.plot(sys_eigenvalues.real, sys_eigenvalues.imag, 'ro')  # 'ro' plots red dots\n",
        "plt.plot(obs_eigenvalues.real, cont_sys_eigenvalues.imag, 'go')  # 'ro' plots red dots\n",
        "\n",
        "# Add grid, labels, and make sure the aspect ratio is equal\n",
        "plt.grid(True)\n",
        "plt.xlabel('Real Part')\n",
        "plt.ylabel('Imaginary Part')\n",
        "plt.title('Eigenvalues in the Complex Plane')\n",
        "plt.axhline(0, color='black',linewidth=0.5)\n",
        "plt.axvline(0, color='black',linewidth=0.5)\n",
        "plt.gca().set_aspect('equal', adjustable='box')\n",
        "plt.legend(['sys','obs'])\n",
        "\n",
        "# Show the plot\n",
        "plt.show()\n"
      ],
      "metadata": {
        "colab": {
          "base_uri": "https://localhost:8080/",
          "height": 394
        },
        "id": "SGPdLr8RiU1-",
        "outputId": "c02b4b3e-0f4c-42a5-ad9b-f00ece4d02c7"
      },
      "execution_count": 21,
      "outputs": [
        {
          "output_type": "stream",
          "name": "stdout",
          "text": [
            "[[0.  ]\n",
            " [3.79]]\n",
            "[[ 0.    1.  ]\n",
            " [-9.21 -6.3 ]]\n",
            "[-4 -1]\n",
            "[0.]\n",
            "[array([[ 0.  ,  1.  ],\n",
            "       [-9.21, -6.3 ]]), array([[0.  ],\n",
            "       [3.79]])]\n"
          ]
        },
        {
          "output_type": "error",
          "ename": "ValueError",
          "evalue": "all the input array dimensions except for the concatenation axis must match exactly, but along dimension 1, the array at index 0 has size 2 and the array at index 1 has size 1",
          "traceback": [
            "\u001b[0;31m---------------------------------------------------------------------------\u001b[0m",
            "\u001b[0;31mValueError\u001b[0m                                Traceback (most recent call last)",
            "\u001b[0;32m<ipython-input-21-40713b71acfd>\u001b[0m in \u001b[0;36m<cell line: 9>\u001b[0;34m()\u001b[0m\n\u001b[1;32m      7\u001b[0m \u001b[0mprint\u001b[0m\u001b[0;34m(\u001b[0m\u001b[0;34m[\u001b[0m\u001b[0mA\u001b[0m\u001b[0;34m-\u001b[0m\u001b[0mnp\u001b[0m\u001b[0;34m.\u001b[0m\u001b[0mouter\u001b[0m\u001b[0;34m(\u001b[0m\u001b[0mB\u001b[0m\u001b[0;34m,\u001b[0m \u001b[0mK\u001b[0m\u001b[0;34m)\u001b[0m\u001b[0;34m,\u001b[0m \u001b[0mnp\u001b[0m\u001b[0;34m.\u001b[0m\u001b[0mouter\u001b[0m\u001b[0;34m(\u001b[0m\u001b[0mB\u001b[0m\u001b[0;34m,\u001b[0m \u001b[0mke\u001b[0m\u001b[0;34m)\u001b[0m\u001b[0;34m]\u001b[0m\u001b[0;34m)\u001b[0m\u001b[0;34m\u001b[0m\u001b[0;34m\u001b[0m\u001b[0m\n\u001b[1;32m      8\u001b[0m \u001b[0;34m\u001b[0m\u001b[0m\n\u001b[0;32m----> 9\u001b[0;31m \u001b[0msys_matrix\u001b[0m \u001b[0;34m=\u001b[0m \u001b[0mnp\u001b[0m\u001b[0;34m.\u001b[0m\u001b[0mconcatenate\u001b[0m\u001b[0;34m(\u001b[0m\u001b[0;34m(\u001b[0m\u001b[0mA\u001b[0m\u001b[0;34m-\u001b[0m\u001b[0mnp\u001b[0m\u001b[0;34m.\u001b[0m\u001b[0mouter\u001b[0m\u001b[0;34m(\u001b[0m\u001b[0mB\u001b[0m\u001b[0;34m,\u001b[0m \u001b[0mK\u001b[0m\u001b[0;34m)\u001b[0m\u001b[0;34m,\u001b[0m \u001b[0mnp\u001b[0m\u001b[0;34m.\u001b[0m\u001b[0mouter\u001b[0m\u001b[0;34m(\u001b[0m\u001b[0mB\u001b[0m\u001b[0;34m,\u001b[0m \u001b[0mke\u001b[0m\u001b[0;34m)\u001b[0m\u001b[0;34m)\u001b[0m\u001b[0;34m,\u001b[0m \u001b[0maxis\u001b[0m\u001b[0;34m=\u001b[0m\u001b[0;36m0\u001b[0m\u001b[0;34m)\u001b[0m\u001b[0;34m\u001b[0m\u001b[0;34m\u001b[0m\u001b[0m\n\u001b[0m\u001b[1;32m     10\u001b[0m \u001b[0mprint\u001b[0m\u001b[0;34m(\u001b[0m\u001b[0msys_matrix\u001b[0m\u001b[0;34m)\u001b[0m\u001b[0;34m\u001b[0m\u001b[0;34m\u001b[0m\u001b[0m\n\u001b[1;32m     11\u001b[0m \u001b[0;31m#sys_matrix = np.concatenate([[A-np.outer(B, K), np.outer(B, ke)],[-C, [0]]])\u001b[0m\u001b[0;34m\u001b[0m\u001b[0;34m\u001b[0m\u001b[0m\n",
            "\u001b[0;31mValueError\u001b[0m: all the input array dimensions except for the concatenation axis must match exactly, but along dimension 1, the array at index 0 has size 2 and the array at index 1 has size 1"
          ]
        }
      ]
    }
  ]
}