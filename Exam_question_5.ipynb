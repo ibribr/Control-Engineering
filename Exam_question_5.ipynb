{
  "nbformat": 4,
  "nbformat_minor": 0,
  "metadata": {
    "colab": {
      "provenance": [],
      "authorship_tag": "ABX9TyPNQJD6zXbyMRCUIUV3Lcea",
      "include_colab_link": true
    },
    "kernelspec": {
      "name": "python3",
      "display_name": "Python 3"
    },
    "language_info": {
      "name": "python"
    }
  },
  "cells": [
    {
      "cell_type": "markdown",
      "metadata": {
        "id": "view-in-github",
        "colab_type": "text"
      },
      "source": [
        "<a href=\"https://colab.research.google.com/github/ibribr/Control-Engineering/blob/main/Exam_question_5.ipynb\" target=\"_parent\"><img src=\"https://colab.research.google.com/assets/colab-badge.svg\" alt=\"Open In Colab\"/></a>"
      ]
    },
    {
      "cell_type": "code",
      "source": [
        "!pip install control\n",
        "\n",
        "from control import tf, tf2ss, forced_response, pzmap, tfdata, feedback, ss, lqr, ctrb, obsv\n",
        "from scipy import signal\n",
        "import numpy as np\n",
        "import matplotlib.pyplot as plt"
      ],
      "metadata": {
        "id": "93MXn7xH4axf",
        "colab": {
          "base_uri": "https://localhost:8080/"
        },
        "outputId": "01969275-b1b4-4ea2-fa28-76502b251bc2"
      },
      "execution_count": 2,
      "outputs": [
        {
          "output_type": "stream",
          "name": "stdout",
          "text": [
            "Collecting control\n",
            "  Downloading control-0.10.0-py3-none-any.whl (513 kB)\n",
            "\u001b[2K     \u001b[90m━━━━━━━━━━━━━━━━━━━━━━━━━━━━━━━━━━━━━━━━\u001b[0m \u001b[32m513.9/513.9 kB\u001b[0m \u001b[31m5.5 MB/s\u001b[0m eta \u001b[36m0:00:00\u001b[0m\n",
            "\u001b[?25hRequirement already satisfied: numpy>=1.23 in /usr/local/lib/python3.10/dist-packages (from control) (1.25.2)\n",
            "Requirement already satisfied: scipy>=1.8 in /usr/local/lib/python3.10/dist-packages (from control) (1.11.4)\n",
            "Requirement already satisfied: matplotlib>=3.6 in /usr/local/lib/python3.10/dist-packages (from control) (3.7.1)\n",
            "Requirement already satisfied: contourpy>=1.0.1 in /usr/local/lib/python3.10/dist-packages (from matplotlib>=3.6->control) (1.2.1)\n",
            "Requirement already satisfied: cycler>=0.10 in /usr/local/lib/python3.10/dist-packages (from matplotlib>=3.6->control) (0.12.1)\n",
            "Requirement already satisfied: fonttools>=4.22.0 in /usr/local/lib/python3.10/dist-packages (from matplotlib>=3.6->control) (4.51.0)\n",
            "Requirement already satisfied: kiwisolver>=1.0.1 in /usr/local/lib/python3.10/dist-packages (from matplotlib>=3.6->control) (1.4.5)\n",
            "Requirement already satisfied: packaging>=20.0 in /usr/local/lib/python3.10/dist-packages (from matplotlib>=3.6->control) (24.0)\n",
            "Requirement already satisfied: pillow>=6.2.0 in /usr/local/lib/python3.10/dist-packages (from matplotlib>=3.6->control) (9.4.0)\n",
            "Requirement already satisfied: pyparsing>=2.3.1 in /usr/local/lib/python3.10/dist-packages (from matplotlib>=3.6->control) (3.1.2)\n",
            "Requirement already satisfied: python-dateutil>=2.7 in /usr/local/lib/python3.10/dist-packages (from matplotlib>=3.6->control) (2.8.2)\n",
            "Requirement already satisfied: six>=1.5 in /usr/local/lib/python3.10/dist-packages (from python-dateutil>=2.7->matplotlib>=3.6->control) (1.16.0)\n",
            "Installing collected packages: control\n",
            "Successfully installed control-0.10.0\n"
          ]
        }
      ]
    },
    {
      "cell_type": "code",
      "source": [
        "# Define your plant:\n",
        "A = np.array([[0, 1, 0],[0, 0, 1], [0, -35, -12]])\n",
        "B = np.array([[0],[0],[1]])\n",
        "C = np.array([40, 20, 0])\n",
        "D = np.array([0])\n",
        "\n",
        "sys = ss(A,B,C,D)\n",
        "print(sys)\n",
        "print(tf(sys))"
      ],
      "metadata": {
        "colab": {
          "base_uri": "https://localhost:8080/"
        },
        "id": "gte7MmIXKHCM",
        "outputId": "19b752c5-8389-4cd4-8873-c70acc720c74"
      },
      "execution_count": 6,
      "outputs": [
        {
          "output_type": "stream",
          "name": "stdout",
          "text": [
            "<StateSpace>: sys[2]\n",
            "Inputs (1): ['u[0]']\n",
            "Outputs (1): ['y[0]']\n",
            "States (3): ['x[0]', 'x[1]', 'x[2]']\n",
            "\n",
            "A = [[  0.   1.   0.]\n",
            "     [  0.   0.   1.]\n",
            "     [  0. -35. -12.]]\n",
            "\n",
            "B = [[0.]\n",
            "     [0.]\n",
            "     [1.]]\n",
            "\n",
            "C = [[40. 20.  0.]]\n",
            "\n",
            "D = [[0.]]\n",
            "\n",
            "<TransferFunction>: sys[3]\n",
            "Inputs (1): ['u[0]']\n",
            "Outputs (1): ['y[0]']\n",
            "\n",
            "\n",
            "1.066e-14 s^2 + 20 s + 40\n",
            "-------------------------\n",
            "   s^3 + 12 s^2 + 35 s\n",
            "\n"
          ]
        }
      ]
    },
    {
      "cell_type": "code",
      "source": [
        "Cm = ctrb(A, B)\n",
        "print(Cm)\n",
        "print(\"rank: \", np.linalg.matrix_rank(Cm))\n",
        "\n",
        "Om = obsv(A, C)\n",
        "print(Om)\n",
        "print(\"rank: \", np.linalg.matrix_rank(Om))"
      ],
      "metadata": {
        "id": "XexdrGM-gk5M",
        "outputId": "a0b3040b-543e-4d0e-9c73-133ae3348cfe",
        "colab": {
          "base_uri": "https://localhost:8080/"
        }
      },
      "execution_count": 7,
      "outputs": [
        {
          "output_type": "stream",
          "name": "stdout",
          "text": [
            "[[  0.   0.   1.]\n",
            " [  0.   1. -12.]\n",
            " [  1. -12. 109.]]\n",
            "rank:  3\n",
            "[[  40.   20.    0.]\n",
            " [   0.   40.   20.]\n",
            " [   0. -700. -200.]]\n",
            "rank:  3\n"
          ]
        }
      ]
    },
    {
      "cell_type": "code",
      "source": [
        "K = np.array([229, 56.45, 12])      # state feedback gain for a third pole at 10 times away for real part\n",
        "#K = np.array([22.9, -15.55, -6])      # state feedback gain for a third pole to cancil the zero at s+2=0\n",
        "\n",
        "#K = np.array([2.21, -2.7])      # state feedback plus integral control\n",
        "#ke = 3.79\n",
        "\n",
        "#Q = np.array([[50, 0],\n",
        "#              [0, 1]])  # State cost weighting\n",
        "\n",
        "#R = np.array([20])    # Control effort cost weighting\n",
        "\n",
        "#K_lqr, _, _ = lqr(A, B, Q, R)\n",
        "#print(\"LQR weights:\", K_lqr)\n",
        "\n",
        "#L = np.array([[24.31],[-83.21]])\n",
        "\n",
        "x = np.zeros((A.shape[0], 1))\n",
        "#xes = x\n",
        "#ex = x\n",
        "#yes = 0\n",
        "u = 0\n",
        "r = 1\n",
        "#esum = 0\n",
        "\n",
        "# simulate\n",
        "t0 = 0\n",
        "t1 = 4\n",
        "dt = 0.001\n",
        "nt = int( t1 / dt ) + 1 # Number of points of sim time\n",
        "t = np.linspace(t0, t1, nt)\n",
        "\n",
        "\n",
        "#print(x.reshape(-1,1))\n",
        "print(t.shape[0])\n",
        "rplt = np.zeros(t.shape[0])\n",
        "yplt = np.zeros(t.shape[0])\n",
        "yesplt = np.zeros(t.shape[0])\n",
        "explt = np.zeros((A.shape[0], t.shape[0]))\n",
        "print(explt.shape)\n",
        "\n",
        "for i in range(t.shape[0]):\n",
        "  # model\n",
        "  xdot = A @ x + B * u\n",
        "  x = x + xdot * dt\n",
        "  y = C @ x + D * u\n",
        "\n",
        "  # observer\n",
        "  #xesdot = np.dot(A, xes) + B * u + L * (y-yes)\n",
        "  #xes = xes + xesdot * dt\n",
        "  #yes = np.dot(C,xes)+ D * u\n",
        "\n",
        "  u = r - K @ x\n",
        "  #e = r - y\n",
        "  #esum = esum + e * dt\n",
        "  #u = ke * esum - K_lqr @ xes\n",
        "\n",
        "  #state error\n",
        "  #exdot = np.dot(A-L*C, ex)\n",
        "  #ex = ex + exdot * dt\n",
        "\n",
        "  yplt[i] = y\n",
        "  #yesplt[i] = yes\n",
        "  rplt[i] = r\n",
        "  #explt[:,i] = ex.reshape(-1)\n",
        "\n",
        "# plot results\n",
        "plt.figure(figsize=(8, 4))\n",
        "plt.plot(t, yplt, 'green')\n",
        "#plt.plot(t, yesplt, 'blue', linestyle=':')\n",
        "#plt.ylim(0, 0.002)\n",
        "plt.grid()\n",
        "plt.legend(['y','yes'])\n",
        "plt.show()\n",
        "\n",
        "#plt.figure(figsize=(8, 4))\n",
        "#plt.plot(t, explt.T, 'r')\n",
        "#plt.plot(t, explt[0,:], 'r')\n",
        "#plt.plot(t, explt[1,:], 'b')\n",
        "#plt.ylim(-10**-3, 10**-3)\n",
        "#plt.xlim(0, 2.0)\n",
        "#plt.grid()\n",
        "#plt.legend(['ex1','ex2','ex3'])\n",
        "#plt.show()\n"
      ],
      "metadata": {
        "id": "-PwuhlR-fiEm",
        "outputId": "1515d58f-422a-47dd-f132-8f894e7a3542",
        "colab": {
          "base_uri": "https://localhost:8080/",
          "height": 439
        }
      },
      "execution_count": 11,
      "outputs": [
        {
          "output_type": "stream",
          "name": "stdout",
          "text": [
            "4001\n",
            "(3, 4001)\n"
          ]
        },
        {
          "output_type": "stream",
          "name": "stderr",
          "text": [
            "<ipython-input-11-e1b05168ab31>:61: DeprecationWarning: Conversion of an array with ndim > 0 to a scalar is deprecated, and will error in future. Ensure you extract a single element from your array before performing this operation. (Deprecated NumPy 1.25.)\n",
            "  yplt[i] = y\n"
          ]
        },
        {
          "output_type": "display_data",
          "data": {
            "text/plain": [
              "<Figure size 800x400 with 1 Axes>"
            ],
            "image/png": "[encoded data removed]"
          },
          "metadata": {}
        }
      ]
    },
    {
      "cell_type": "code",
      "source": [
        "# plot roots (eigenvalues) of the system matrix of controlled system and observer\n",
        "sys_eigenvalues, _ = np.linalg.eig(A-np.outer(B, K))\n",
        "\n",
        "print(\"Eigenvalues (Roots) of A:\", sys_eigenvalues)\n",
        "\n",
        "obs_eigenvalues, _ = np.linalg.eig(A-np.outer(L, C))\n",
        "\n",
        "print(\"Eigenvalues (Roots) of A:\", obs_eigenvalues)\n",
        "\n",
        "plt.figure(figsize=(10, 6))\n",
        "# Plot the real part vs. the imaginary part of the eigenvalues\n",
        "plt.plot(sys_eigenvalues.real, sys_eigenvalues.imag, 'ro')  # 'ro' plots red dots\n",
        "plt.plot(obs_eigenvalues.real, obs_eigenvalues.imag, 'go')  # 'ro' plots red dots\n",
        "\n",
        "# Add grid, labels, and make sure the aspect ratio is equal\n",
        "plt.grid(True)\n",
        "plt.xlabel('Real Part')\n",
        "plt.ylabel('Imaginary Part')\n",
        "plt.title('Eigenvalues in the Complex Plane')\n",
        "plt.axhline(0, color='black',linewidth=0.5)\n",
        "plt.axvline(0, color='black',linewidth=0.5)\n",
        "plt.gca().set_aspect('equal', adjustable='box')\n",
        "plt.legend(['sys','obs'])\n",
        "\n",
        "# Show the plot\n",
        "plt.show()\n"
      ],
      "metadata": {
        "colab": {
          "base_uri": "https://localhost:8080/",
          "height": 370
        },
        "id": "SGPdLr8RiU1-",
        "outputId": "5af289ac-af27-4acf-8dc6-47874b05def5"
      },
      "execution_count": null,
      "outputs": [
        {
          "output_type": "stream",
          "name": "stdout",
          "text": [
            "Eigenvalues (Roots) of A: [-20.+0.j          -4.+5.45893763j  -4.-5.45893763j]\n",
            "Eigenvalues (Roots) of A: [-399.99366398 +0.j         -40.00316801+54.5684805j\n",
            "  -40.00316801-54.5684805j]\n"
          ]
        },
        {
          "output_type": "display_data",
          "data": {
            "text/plain": [
              "<Figure size 1000x600 with 1 Axes>"
            ],
            "image/png": "[encoded data removed]"
          },
          "metadata": {}
        }
      ]
    }
  ]
}